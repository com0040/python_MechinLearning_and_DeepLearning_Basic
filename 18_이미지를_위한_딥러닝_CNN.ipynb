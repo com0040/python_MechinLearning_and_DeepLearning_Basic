{
  "nbformat": 4,
  "nbformat_minor": 0,
  "metadata": {
    "colab": {
      "provenance": [],
      "authorship_tag": "ABX9TyNMNEQpL59LIpdgML2zstzd",
      "include_colab_link": true
    },
    "kernelspec": {
      "name": "python3",
      "display_name": "Python 3"
    },
    "language_info": {
      "name": "python"
    }
  },
  "cells": [
    {
      "cell_type": "markdown",
      "metadata": {
        "id": "view-in-github",
        "colab_type": "text"
      },
      "source": [
        "<a href=\"https://colab.research.google.com/github/com0040/python_MechinLearning_and_DeepLearning_Basic/blob/main/18_%EC%9D%B4%EB%AF%B8%EC%A7%80%EB%A5%BC_%EC%9C%84%ED%95%9C_%EB%94%A5%EB%9F%AC%EB%8B%9D_CNN.ipynb\" target=\"_parent\"><img src=\"https://colab.research.google.com/assets/colab-badge.svg\" alt=\"Open In Colab\"/></a>"
      ]
    },
    {
      "cell_type": "code",
      "execution_count": 3,
      "metadata": {
        "id": "wcvTGSxq5gQT"
      },
      "outputs": [],
      "source": [
        "from tensorflow import keras\n",
        "from sklearn.model_selection import train_test_split"
      ]
    },
    {
      "cell_type": "code",
      "source": [
        "(train_input, train_target), (test_input, test_target) = keras.datasets.fashion_mnist.load_data()"
      ],
      "metadata": {
        "id": "8sKKaX476TY4"
      },
      "execution_count": 4,
      "outputs": []
    },
    {
      "cell_type": "code",
      "source": [
        "train_input, val_input, train_target, val_target = train_test_split(train_input, train_target, test_size =0.1)"
      ],
      "metadata": {
        "id": "FJ5YaXq_7gIS"
      },
      "execution_count": 5,
      "outputs": []
    },
    {
      "cell_type": "code",
      "source": [
        "train_input.shape"
      ],
      "metadata": {
        "colab": {
          "base_uri": "https://localhost:8080/"
        },
        "id": "FaVSwtBE78L7",
        "outputId": "a8e7dad9-03b7-4dea-b792-22c3f721377c"
      },
      "execution_count": 6,
      "outputs": [
        {
          "output_type": "execute_result",
          "data": {
            "text/plain": [
              "(54000, 28, 28)"
            ]
          },
          "metadata": {},
          "execution_count": 6
        }
      ]
    },
    {
      "cell_type": "code",
      "source": [
        "train_scaled = train_input.reshape(-1,28,28,1) / 255 # 흑백인지 알려주고 4차원으로 만든다. 후에 정규화(0~1사이)\n",
        "val_scaled = val_input.reshape(-1,28,28,1) / 255\n",
        "test_scaled = test_input.reshape(-1,28,28,1) / 255"
      ],
      "metadata": {
        "id": "Lh7U6o5d71fE"
      },
      "execution_count": 7,
      "outputs": []
    },
    {
      "cell_type": "code",
      "source": [
        "model = keras.Sequential()\n",
        "model.add(keras.layers.Conv2D(filters = 32, kernel_size = (3,3), padding = 'same', activation = 'relu', input_shape = (28,28,1)))\n",
        "model.add(keras.layers.MaxPooling2D(2))\n",
        "model.add(keras.layers.Conv2D(filters = 16, kernel_size = (3,3), padding = 'same', activation = 'relu'))\n",
        "model.add(keras.layers.MaxPooling2D(2))\n",
        "\n",
        "model.add(keras.layers.Flatten())\n",
        "model.add(keras.layers.Dense(100, activation = 'relu'))\n",
        "model.add(keras.layers.Dropout(0.3))\n",
        "model.add(keras.layers.Dense(10, activation = 'softmax'))\n",
        "\n",
        "es = keras.callbacks.EarlyStopping(patience = 3, restore_best_weights = True)\n",
        "\n",
        "model.compile(loss = 'sparse_categorical_crossentropy', metrics = 'accuracy', optimizer = 'adam')\n",
        "\n",
        "hist = model.fit(train_scaled, train_target, epochs =10000, validation_data = (val_scaled,val_target),\n",
        "                 callbacks = [es])"
      ],
      "metadata": {
        "colab": {
          "base_uri": "https://localhost:8080/"
        },
        "id": "1RG4buFH8fys",
        "outputId": "0241ee62-cd23-4973-84bb-27fb7db6b9a7"
      },
      "execution_count": 11,
      "outputs": [
        {
          "output_type": "stream",
          "name": "stdout",
          "text": [
            "Epoch 1/10000\n",
            "1688/1688 [==============================] - 55s 32ms/step - loss: 0.5190 - accuracy: 0.8126 - val_loss: 0.3547 - val_accuracy: 0.8693\n",
            "Epoch 2/10000\n",
            "1688/1688 [==============================] - 75s 44ms/step - loss: 0.3463 - accuracy: 0.8754 - val_loss: 0.2902 - val_accuracy: 0.8938\n",
            "Epoch 3/10000\n",
            "1688/1688 [==============================] - 70s 42ms/step - loss: 0.3049 - accuracy: 0.8893 - val_loss: 0.2685 - val_accuracy: 0.9025\n",
            "Epoch 4/10000\n",
            "1688/1688 [==============================] - 54s 32ms/step - loss: 0.2764 - accuracy: 0.8990 - val_loss: 0.2554 - val_accuracy: 0.9090\n",
            "Epoch 5/10000\n",
            "1688/1688 [==============================] - 53s 31ms/step - loss: 0.2528 - accuracy: 0.9083 - val_loss: 0.2478 - val_accuracy: 0.9065\n",
            "Epoch 6/10000\n",
            "1688/1688 [==============================] - 56s 33ms/step - loss: 0.2400 - accuracy: 0.9128 - val_loss: 0.2422 - val_accuracy: 0.9105\n",
            "Epoch 7/10000\n",
            "1688/1688 [==============================] - 53s 31ms/step - loss: 0.2231 - accuracy: 0.9185 - val_loss: 0.2375 - val_accuracy: 0.9097\n",
            "Epoch 8/10000\n",
            "1688/1688 [==============================] - 52s 31ms/step - loss: 0.2102 - accuracy: 0.9219 - val_loss: 0.2405 - val_accuracy: 0.9102\n",
            "Epoch 9/10000\n",
            "1688/1688 [==============================] - 52s 31ms/step - loss: 0.2009 - accuracy: 0.9261 - val_loss: 0.2158 - val_accuracy: 0.9225\n",
            "Epoch 10/10000\n",
            "1688/1688 [==============================] - 52s 31ms/step - loss: 0.1888 - accuracy: 0.9287 - val_loss: 0.2265 - val_accuracy: 0.9185\n",
            "Epoch 11/10000\n",
            "1688/1688 [==============================] - 55s 33ms/step - loss: 0.1834 - accuracy: 0.9303 - val_loss: 0.2178 - val_accuracy: 0.9210\n",
            "Epoch 12/10000\n",
            "1688/1688 [==============================] - 53s 31ms/step - loss: 0.1729 - accuracy: 0.9355 - val_loss: 0.2343 - val_accuracy: 0.9200\n"
          ]
        }
      ]
    },
    {
      "cell_type": "code",
      "source": [
        "model.evaluate(test_scaled, test_target)"
      ],
      "metadata": {
        "colab": {
          "base_uri": "https://localhost:8080/"
        },
        "id": "Zy0M7arh-8eM",
        "outputId": "eedfc034-31ae-4ad0-8508-50f2a960dec4"
      },
      "execution_count": 12,
      "outputs": [
        {
          "output_type": "stream",
          "name": "stdout",
          "text": [
            "313/313 [==============================] - 3s 9ms/step - loss: 0.2461 - accuracy: 0.9105\n"
          ]
        },
        {
          "output_type": "execute_result",
          "data": {
            "text/plain": [
              "[0.24609164893627167, 0.9104999899864197]"
            ]
          },
          "metadata": {},
          "execution_count": 12
        }
      ]
    },
    {
      "cell_type": "code",
      "source": [
        "import matplotlib.pyplot as plt\n",
        "\n",
        "plt.plot(hist.history['loss'])\n",
        "plt.plot(hist.history['val_loss'])"
      ],
      "metadata": {
        "colab": {
          "base_uri": "https://localhost:8080/",
          "height": 283
        },
        "id": "pCQdO--a_lUc",
        "outputId": "f22b9247-b8d1-4a37-87cf-29259d6bf01f"
      },
      "execution_count": 13,
      "outputs": [
        {
          "output_type": "execute_result",
          "data": {
            "text/plain": [
              "[<matplotlib.lines.Line2D at 0x7fdb75aeec50>]"
            ]
          },
          "metadata": {},
          "execution_count": 13
        },
        {
          "output_type": "display_data",
          "data": {
            "text/plain": [
              "<Figure size 432x288 with 1 Axes>"
            ],
            "image/png": "[encoded data removed]"
          },
          "metadata": {
            "needs_background": "light"
          }
        }
      ]
    }
  ]
}