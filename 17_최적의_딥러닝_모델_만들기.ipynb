{
  "nbformat": 4,
  "nbformat_minor": 0,
  "metadata": {
    "colab": {
      "provenance": [],
      "collapsed_sections": [],
      "authorship_tag": "ABX9TyNP97QtMq3ROt6d+yoUKunN",
      "include_colab_link": true
    },
    "kernelspec": {
      "name": "python3",
      "display_name": "Python 3"
    },
    "language_info": {
      "name": "python"
    }
  },
  "cells": [
    {
      "cell_type": "markdown",
      "metadata": {
        "id": "view-in-github",
        "colab_type": "text"
      },
      "source": [
        "<a href=\"https://colab.research.google.com/github/com0040/python_MechinLearning_and_DeepLearning_Basic/blob/main/17_%EC%B5%9C%EC%A0%81%EC%9D%98_%EB%94%A5%EB%9F%AC%EB%8B%9D_%EB%AA%A8%EB%8D%B8_%EB%A7%8C%EB%93%A4%EA%B8%B0.ipynb\" target=\"_parent\"><img src=\"https://colab.research.google.com/assets/colab-badge.svg\" alt=\"Open In Colab\"/></a>"
      ]
    },
    {
      "cell_type": "code",
      "execution_count": null,
      "metadata": {
        "id": "YMIbYA7vf1e-"
      },
      "outputs": [],
      "source": [
        "from tensorflow import keras\n",
        "from sklearn.model_selection import train_test_split"
      ]
    },
    {
      "cell_type": "code",
      "source": [
        "# 옷 데이터\n",
        "(train_input, train_target), (test_input, test_target) = keras.datasets.fashion_mnist.load_data()"
      ],
      "metadata": {
        "colab": {
          "base_uri": "https://localhost:8080/"
        },
        "id": "kLLdnnSeftgu",
        "outputId": "be4109bc-a58d-41ae-8ff0-0b9c35160f14"
      },
      "execution_count": null,
      "outputs": [
        {
          "output_type": "stream",
          "name": "stdout",
          "text": [
            "Downloading data from https://storage.googleapis.com/tensorflow/tf-keras-datasets/train-labels-idx1-ubyte.gz\n",
            "29515/29515 [==============================] - 0s 0us/step\n",
            "Downloading data from https://storage.googleapis.com/tensorflow/tf-keras-datasets/train-images-idx3-ubyte.gz\n",
            "26421880/26421880 [==============================] - 0s 0us/step\n",
            "Downloading data from https://storage.googleapis.com/tensorflow/tf-keras-datasets/t10k-labels-idx1-ubyte.gz\n",
            "5148/5148 [==============================] - 0s 0us/step\n",
            "Downloading data from https://storage.googleapis.com/tensorflow/tf-keras-datasets/t10k-images-idx3-ubyte.gz\n",
            "4422102/4422102 [==============================] - 0s 0us/step\n"
          ]
        }
      ]
    },
    {
      "cell_type": "code",
      "source": [
        "train_input.shape"
      ],
      "metadata": {
        "colab": {
          "base_uri": "https://localhost:8080/"
        },
        "id": "q5d_hWjRgLih",
        "outputId": "e25517b1-4b01-4848-9a41-767682afcbb7"
      },
      "execution_count": null,
      "outputs": [
        {
          "output_type": "execute_result",
          "data": {
            "text/plain": [
              "(60000, 28, 28)"
            ]
          },
          "metadata": {},
          "execution_count": 5
        }
      ]
    },
    {
      "cell_type": "code",
      "source": [
        "test_input.shape"
      ],
      "metadata": {
        "colab": {
          "base_uri": "https://localhost:8080/"
        },
        "id": "WgBCzF2ughXR",
        "outputId": "f544a0f9-fe88-48d7-a1e1-635261441977"
      },
      "execution_count": null,
      "outputs": [
        {
          "output_type": "execute_result",
          "data": {
            "text/plain": [
              "(10000, 28, 28)"
            ]
          },
          "metadata": {},
          "execution_count": 6
        }
      ]
    },
    {
      "cell_type": "code",
      "source": [
        "train_input, val_input, train_target, val_target = train_test_split(train_input, train_target, test_size = 0.1)"
      ],
      "metadata": {
        "id": "CAVwOarcglhY"
      },
      "execution_count": null,
      "outputs": []
    },
    {
      "cell_type": "code",
      "source": [
        "import matplotlib.pyplot as plt\n",
        "\n",
        "plt.imshow(train_input[0])"
      ],
      "metadata": {
        "colab": {
          "base_uri": "https://localhost:8080/",
          "height": 283
        },
        "id": "NVWHj-Y3hI29",
        "outputId": "d1cc74a9-7fd1-450e-e8a5-2cb88811ee8a"
      },
      "execution_count": null,
      "outputs": [
        {
          "output_type": "execute_result",
          "data": {
            "text/plain": [
              "<matplotlib.image.AxesImage at 0x7fd24567e190>"
            ]
          },
          "metadata": {},
          "execution_count": 9
        },
        {
          "output_type": "display_data",
          "data": {
            "text/plain": [
              "<Figure size 432x288 with 1 Axes>"
            ],
            "image/png": "[encoded data removed]"
          },
          "metadata": {
            "needs_background": "light"
          }
        }
      ]
    },
    {
      "cell_type": "code",
      "source": [
        "# 픽셀값0-255 / 0에 가까울 수록 검은색, 255에 가까울수록 흰색\n",
        "# 정규화 / 255\n",
        "\n",
        "train_scaled = train_input.reshape(-1, 28*28) / 255\n",
        "val_scaled = val_input.reshape(-1, 784) / 255\n",
        "test_scaled = test_input.reshape(-1, 784) / 255"
      ],
      "metadata": {
        "id": "WPqSCoxChZWR"
      },
      "execution_count": null,
      "outputs": []
    },
    {
      "cell_type": "code",
      "source": [
        "train_scaled.shape"
      ],
      "metadata": {
        "colab": {
          "base_uri": "https://localhost:8080/"
        },
        "id": "4ejdP0uIh6V6",
        "outputId": "1c40cf97-d625-4ff8-db16-2bbf2226b2e6"
      },
      "execution_count": null,
      "outputs": [
        {
          "output_type": "execute_result",
          "data": {
            "text/plain": [
              "(54000, 784)"
            ]
          },
          "metadata": {},
          "execution_count": 12
        }
      ]
    },
    {
      "cell_type": "code",
      "source": [
        "# from sklearn.utils import validation\n",
        "model = keras.Sequential() # 도화지\n",
        "model.add(keras.layers.Dense(256, activation = 'relu', input_shape = (784,)))\n",
        "model.add(keras.layers.Dense(128, activation = 'relu'))\n",
        "model.add(keras.layers.Dense(10, activation ='softmax'))\n",
        "\n",
        "model.compile(loss = 'sparse_categorical_crossentropy', metrics = 'accuracy')\n",
        "\n",
        "hist = model.fit(train_scaled, train_target, epochs = 30, validation_data = (val_scaled, val_target))"
      ],
      "metadata": {
        "colab": {
          "base_uri": "https://localhost:8080/"
        },
        "id": "3MSM5fiuin4c",
        "outputId": "3a102ae8-45ed-4177-90f9-c2cff7a05622"
      },
      "execution_count": null,
      "outputs": [
        {
          "output_type": "stream",
          "name": "stdout",
          "text": [
            "Epoch 1/30\n",
            "1688/1688 [==============================] - 8s 4ms/step - loss: 0.4990 - accuracy: 0.8190 - val_loss: 0.4840 - val_accuracy: 0.8255\n",
            "Epoch 2/30\n",
            "1688/1688 [==============================] - 7s 4ms/step - loss: 0.3879 - accuracy: 0.8624 - val_loss: 0.3874 - val_accuracy: 0.8707\n",
            "Epoch 3/30\n",
            "1688/1688 [==============================] - 8s 5ms/step - loss: 0.3637 - accuracy: 0.8726 - val_loss: 0.4074 - val_accuracy: 0.8583\n",
            "Epoch 4/30\n",
            "1688/1688 [==============================] - 7s 4ms/step - loss: 0.3545 - accuracy: 0.8780 - val_loss: 0.4360 - val_accuracy: 0.8583\n",
            "Epoch 5/30\n",
            "1688/1688 [==============================] - 7s 4ms/step - loss: 0.3456 - accuracy: 0.8817 - val_loss: 0.4094 - val_accuracy: 0.8702\n",
            "Epoch 6/30\n",
            "1688/1688 [==============================] - 7s 4ms/step - loss: 0.3377 - accuracy: 0.8842 - val_loss: 0.4334 - val_accuracy: 0.8670\n",
            "Epoch 7/30\n",
            "1688/1688 [==============================] - 7s 4ms/step - loss: 0.3366 - accuracy: 0.8880 - val_loss: 0.4435 - val_accuracy: 0.8650\n",
            "Epoch 8/30\n",
            "1688/1688 [==============================] - 7s 4ms/step - loss: 0.3297 - accuracy: 0.8904 - val_loss: 0.4006 - val_accuracy: 0.8797\n",
            "Epoch 9/30\n",
            "1688/1688 [==============================] - 7s 4ms/step - loss: 0.3290 - accuracy: 0.8913 - val_loss: 0.4483 - val_accuracy: 0.8790\n",
            "Epoch 10/30\n",
            "1688/1688 [==============================] - 7s 4ms/step - loss: 0.3184 - accuracy: 0.8943 - val_loss: 0.4518 - val_accuracy: 0.8848\n",
            "Epoch 11/30\n",
            "1688/1688 [==============================] - 7s 4ms/step - loss: 0.3169 - accuracy: 0.8944 - val_loss: 0.5815 - val_accuracy: 0.8442\n",
            "Epoch 12/30\n",
            "1688/1688 [==============================] - 7s 4ms/step - loss: 0.3110 - accuracy: 0.8972 - val_loss: 0.4625 - val_accuracy: 0.8850\n",
            "Epoch 13/30\n",
            "1688/1688 [==============================] - 7s 4ms/step - loss: 0.3095 - accuracy: 0.8988 - val_loss: 0.4884 - val_accuracy: 0.8795\n",
            "Epoch 14/30\n",
            "1688/1688 [==============================] - 7s 4ms/step - loss: 0.3117 - accuracy: 0.8986 - val_loss: 0.5042 - val_accuracy: 0.8822\n",
            "Epoch 15/30\n",
            "1688/1688 [==============================] - 12s 7ms/step - loss: 0.2997 - accuracy: 0.9005 - val_loss: 0.5800 - val_accuracy: 0.8785\n",
            "Epoch 16/30\n",
            "1688/1688 [==============================] - 11s 6ms/step - loss: 0.2997 - accuracy: 0.9025 - val_loss: 0.5473 - val_accuracy: 0.8808\n",
            "Epoch 17/30\n",
            "1688/1688 [==============================] - 7s 4ms/step - loss: 0.2902 - accuracy: 0.9046 - val_loss: 0.5766 - val_accuracy: 0.8767\n",
            "Epoch 18/30\n",
            "1688/1688 [==============================] - 7s 4ms/step - loss: 0.2883 - accuracy: 0.9062 - val_loss: 0.5449 - val_accuracy: 0.8755\n",
            "Epoch 19/30\n",
            "1688/1688 [==============================] - 7s 4ms/step - loss: 0.2897 - accuracy: 0.9066 - val_loss: 0.5244 - val_accuracy: 0.8752\n",
            "Epoch 20/30\n",
            "1688/1688 [==============================] - 7s 4ms/step - loss: 0.2809 - accuracy: 0.9070 - val_loss: 0.5767 - val_accuracy: 0.8760\n",
            "Epoch 21/30\n",
            "1688/1688 [==============================] - 7s 4ms/step - loss: 0.2823 - accuracy: 0.9089 - val_loss: 0.5989 - val_accuracy: 0.8835\n",
            "Epoch 22/30\n",
            "1688/1688 [==============================] - 7s 4ms/step - loss: 0.2793 - accuracy: 0.9091 - val_loss: 0.6364 - val_accuracy: 0.8753\n",
            "Epoch 23/30\n",
            "1688/1688 [==============================] - 7s 4ms/step - loss: 0.2798 - accuracy: 0.9099 - val_loss: 0.6691 - val_accuracy: 0.8747\n",
            "Epoch 24/30\n",
            "1688/1688 [==============================] - 7s 4ms/step - loss: 0.2773 - accuracy: 0.9117 - val_loss: 0.6622 - val_accuracy: 0.8748\n",
            "Epoch 25/30\n",
            "1688/1688 [==============================] - 7s 4ms/step - loss: 0.2695 - accuracy: 0.9119 - val_loss: 0.6414 - val_accuracy: 0.8880\n",
            "Epoch 26/30\n",
            "1688/1688 [==============================] - 7s 4ms/step - loss: 0.2776 - accuracy: 0.9139 - val_loss: 0.6656 - val_accuracy: 0.8898\n",
            "Epoch 27/30\n",
            "1688/1688 [==============================] - 7s 4ms/step - loss: 0.2710 - accuracy: 0.9132 - val_loss: 0.7223 - val_accuracy: 0.8537\n",
            "Epoch 28/30\n",
            "1688/1688 [==============================] - 8s 5ms/step - loss: 0.2628 - accuracy: 0.9158 - val_loss: 0.6394 - val_accuracy: 0.8860\n",
            "Epoch 29/30\n",
            "1688/1688 [==============================] - 7s 4ms/step - loss: 0.2671 - accuracy: 0.9166 - val_loss: 0.6594 - val_accuracy: 0.8727\n",
            "Epoch 30/30\n",
            "1688/1688 [==============================] - 7s 4ms/step - loss: 0.2662 - accuracy: 0.9165 - val_loss: 0.6947 - val_accuracy: 0.8795\n"
          ]
        }
      ]
    },
    {
      "cell_type": "code",
      "source": [
        "plt.plot(hist.history['loss'])\n",
        "plt.plot(hist.history['val_loss']) # 과대적합 "
      ],
      "metadata": {
        "colab": {
          "base_uri": "https://localhost:8080/",
          "height": 283
        },
        "id": "0HXG_J9pklPC",
        "outputId": "1a07945c-d659-4045-b389-00e2801f59ec"
      },
      "execution_count": null,
      "outputs": [
        {
          "output_type": "execute_result",
          "data": {
            "text/plain": [
              "[<matplotlib.lines.Line2D at 0x7fd2406e5b10>]"
            ]
          },
          "metadata": {},
          "execution_count": 18
        },
        {
          "output_type": "display_data",
          "data": {
            "text/plain": [
              "<Figure size 432x288 with 1 Axes>"
            ],
            "image/png": "[encoded data removed]"
          },
          "metadata": {
            "needs_background": "light"
          }
        }
      ]
    },
    {
      "cell_type": "code",
      "source": [
        "model = keras.Sequential() # 도화지\n",
        "model.add(keras.layers.Dense(256, activation = 'relu', input_shape = (784,)))\n",
        "model.add(keras.layers.Dropout(0.3)) # 이 은닉층의 30 프로는 랜덤으로 끄겠다.\n",
        "model.add(keras.layers.Dense(128, activation = 'relu'))\n",
        "model.add(keras.layers.Dropout(0.3)) # 이 은닉층의 30 프로는 랜덤으로 끄겠다.\n",
        "model.add(keras.layers.Dense(10, activation ='softmax'))\n",
        "\n",
        "# 5번 연속으로 나빠지지면 학습 강제종료. 마지막 5번은 삭제한다. \n",
        "es = keras.callbacks.EarlyStopping(patience = 5, restore_best_weights = True)\n",
        "cp = keras.callbacks.ModelCheckpoint('best.h5')\n",
        "\n",
        "model.compile(loss = 'sparse_categorical_crossentropy', metrics = 'accuracy', optimizer = 'adam') # 학습률 조정\n",
        "\n",
        "hist = model.fit(train_scaled, train_target, epochs = 30, validation_data = (val_scaled, val_target),\n",
        "                 callbacks = [es,cp])"
      ],
      "metadata": {
        "colab": {
          "base_uri": "https://localhost:8080/"
        },
        "id": "ANx6AEs5mcBx",
        "outputId": "589d3904-fd61-4c66-fb27-003598d66b49"
      },
      "execution_count": null,
      "outputs": [
        {
          "output_type": "stream",
          "name": "stdout",
          "text": [
            "Epoch 1/30\n",
            "1688/1688 [==============================] - 7s 4ms/step - loss: 0.5827 - accuracy: 0.7918 - val_loss: 0.4051 - val_accuracy: 0.8537\n",
            "Epoch 2/30\n",
            "1688/1688 [==============================] - 6s 4ms/step - loss: 0.4381 - accuracy: 0.8400 - val_loss: 0.3776 - val_accuracy: 0.8588\n",
            "Epoch 3/30\n",
            "1688/1688 [==============================] - 6s 4ms/step - loss: 0.4051 - accuracy: 0.8524 - val_loss: 0.3714 - val_accuracy: 0.8593\n",
            "Epoch 4/30\n",
            "1688/1688 [==============================] - 6s 4ms/step - loss: 0.3826 - accuracy: 0.8609 - val_loss: 0.3412 - val_accuracy: 0.8702\n",
            "Epoch 5/30\n",
            "1688/1688 [==============================] - 7s 4ms/step - loss: 0.3687 - accuracy: 0.8661 - val_loss: 0.3345 - val_accuracy: 0.8785\n",
            "Epoch 6/30\n",
            "1688/1688 [==============================] - 6s 4ms/step - loss: 0.3534 - accuracy: 0.8710 - val_loss: 0.3285 - val_accuracy: 0.8825\n",
            "Epoch 7/30\n",
            "1688/1688 [==============================] - 6s 4ms/step - loss: 0.3433 - accuracy: 0.8741 - val_loss: 0.3316 - val_accuracy: 0.8778\n",
            "Epoch 8/30\n",
            "1688/1688 [==============================] - 6s 4ms/step - loss: 0.3337 - accuracy: 0.8777 - val_loss: 0.3179 - val_accuracy: 0.8858\n",
            "Epoch 9/30\n",
            "1688/1688 [==============================] - 6s 4ms/step - loss: 0.3276 - accuracy: 0.8787 - val_loss: 0.3214 - val_accuracy: 0.8832\n",
            "Epoch 10/30\n",
            "1688/1688 [==============================] - 6s 4ms/step - loss: 0.3203 - accuracy: 0.8818 - val_loss: 0.3082 - val_accuracy: 0.8857\n",
            "Epoch 11/30\n",
            "1688/1688 [==============================] - 8s 4ms/step - loss: 0.3118 - accuracy: 0.8837 - val_loss: 0.3156 - val_accuracy: 0.8882\n",
            "Epoch 12/30\n",
            "1688/1688 [==============================] - 7s 4ms/step - loss: 0.3058 - accuracy: 0.8875 - val_loss: 0.3130 - val_accuracy: 0.8843\n",
            "Epoch 13/30\n",
            "1688/1688 [==============================] - 7s 4ms/step - loss: 0.3042 - accuracy: 0.8869 - val_loss: 0.3126 - val_accuracy: 0.8843\n",
            "Epoch 14/30\n",
            "1688/1688 [==============================] - 7s 4ms/step - loss: 0.2983 - accuracy: 0.8891 - val_loss: 0.3174 - val_accuracy: 0.8808\n",
            "Epoch 15/30\n",
            "1688/1688 [==============================] - 6s 4ms/step - loss: 0.2925 - accuracy: 0.8922 - val_loss: 0.3057 - val_accuracy: 0.8935\n",
            "Epoch 16/30\n",
            "1688/1688 [==============================] - 6s 4ms/step - loss: 0.2917 - accuracy: 0.8924 - val_loss: 0.3017 - val_accuracy: 0.8922\n",
            "Epoch 17/30\n",
            "1688/1688 [==============================] - 6s 4ms/step - loss: 0.2901 - accuracy: 0.8930 - val_loss: 0.3006 - val_accuracy: 0.8957\n",
            "Epoch 18/30\n",
            "1688/1688 [==============================] - 6s 4ms/step - loss: 0.2831 - accuracy: 0.8945 - val_loss: 0.3054 - val_accuracy: 0.8880\n",
            "Epoch 19/30\n",
            "1688/1688 [==============================] - 6s 4ms/step - loss: 0.2789 - accuracy: 0.8963 - val_loss: 0.3099 - val_accuracy: 0.8903\n",
            "Epoch 20/30\n",
            "1688/1688 [==============================] - 6s 4ms/step - loss: 0.2777 - accuracy: 0.8966 - val_loss: 0.3038 - val_accuracy: 0.8910\n",
            "Epoch 21/30\n",
            "1688/1688 [==============================] - 6s 4ms/step - loss: 0.2736 - accuracy: 0.8990 - val_loss: 0.3206 - val_accuracy: 0.8872\n",
            "Epoch 22/30\n",
            "1688/1688 [==============================] - 6s 4ms/step - loss: 0.2715 - accuracy: 0.8992 - val_loss: 0.3146 - val_accuracy: 0.8875\n"
          ]
        }
      ]
    },
    {
      "cell_type": "code",
      "source": [
        "plt.plot(hist.history['loss'])\n",
        "plt.plot(hist.history['val_loss'])"
      ],
      "metadata": {
        "colab": {
          "base_uri": "https://localhost:8080/",
          "height": 283
        },
        "id": "skB5wzyontvN",
        "outputId": "479f277d-30cd-4444-caa7-5fbb76d4cbe2"
      },
      "execution_count": null,
      "outputs": [
        {
          "output_type": "execute_result",
          "data": {
            "text/plain": [
              "[<matplotlib.lines.Line2D at 0x7fd24043e9d0>]"
            ]
          },
          "metadata": {},
          "execution_count": 20
        },
        {
          "output_type": "display_data",
          "data": {
            "text/plain": [
              "<Figure size 432x288 with 1 Axes>"
            ],
            "image/png": "[encoded data removed]"
          },
          "metadata": {
            "needs_background": "light"
          }
        }
      ]
    },
    {
      "cell_type": "code",
      "source": [],
      "metadata": {
        "id": "0GOLLkxtoTVS"
      },
      "execution_count": null,
      "outputs": []
    }
  ]
}