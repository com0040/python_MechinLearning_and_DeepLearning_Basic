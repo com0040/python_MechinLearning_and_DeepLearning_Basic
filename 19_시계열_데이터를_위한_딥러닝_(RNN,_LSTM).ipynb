{
  "nbformat": 4,
  "nbformat_minor": 0,
  "metadata": {
    "colab": {
      "provenance": [],
      "authorship_tag": "ABX9TyOM1Xi7HUUB4FwhnUtPVLcz",
      "include_colab_link": true
    },
    "kernelspec": {
      "name": "python3",
      "display_name": "Python 3"
    },
    "language_info": {
      "name": "python"
    }
  },
  "cells": [
    {
      "cell_type": "markdown",
      "metadata": {
        "id": "view-in-github",
        "colab_type": "text"
      },
      "source": [
        "<a href=\"https://colab.research.google.com/github/com0040/python_MechinLearning_and_DeepLearning_Basic/blob/main/19_%EC%8B%9C%EA%B3%84%EC%97%B4_%EB%8D%B0%EC%9D%B4%ED%84%B0%EB%A5%BC_%EC%9C%84%ED%95%9C_%EB%94%A5%EB%9F%AC%EB%8B%9D_(RNN%2C_LSTM).ipynb\" target=\"_parent\"><img src=\"https://colab.research.google.com/assets/colab-badge.svg\" alt=\"Open In Colab\"/></a>"
      ]
    },
    {
      "cell_type": "code",
      "execution_count": 13,
      "metadata": {
        "id": "KYI10VVOCeu3"
      },
      "outputs": [],
      "source": [
        "from tensorflow import keras\n",
        "from sklearn.model_selection import train_test_split\n",
        "\n",
        "# imdb 영화 리뷰 데이터(긍정, 부정) // 많이 사용된 순으로 1위-500위까지 단어만 가져온다다\n",
        "(train_input, train_target), (test_input, test_target) = keras.datasets.imdb.load_data(num_words =500)"
      ]
    },
    {
      "cell_type": "code",
      "source": [
        "# 2 : 500위 안에 못든 단어\n",
        "train_input[0]"
      ],
      "metadata": {
        "colab": {
          "base_uri": "https://localhost:8080/"
        },
        "id": "ghPKvIrDFqR_",
        "outputId": "d6a392fe-9a8e-4c99-f99f-7ba4e3c672d6"
      },
      "execution_count": 14,
      "outputs": [
        {
          "output_type": "execute_result",
          "data": {
            "text/plain": [
              "[1,\n",
              " 14,\n",
              " 22,\n",
              " 16,\n",
              " 43,\n",
              " 2,\n",
              " 2,\n",
              " 2,\n",
              " 2,\n",
              " 65,\n",
              " 458,\n",
              " 2,\n",
              " 66,\n",
              " 2,\n",
              " 4,\n",
              " 173,\n",
              " 36,\n",
              " 256,\n",
              " 5,\n",
              " 25,\n",
              " 100,\n",
              " 43,\n",
              " 2,\n",
              " 112,\n",
              " 50,\n",
              " 2,\n",
              " 2,\n",
              " 9,\n",
              " 35,\n",
              " 480,\n",
              " 284,\n",
              " 5,\n",
              " 150,\n",
              " 4,\n",
              " 172,\n",
              " 112,\n",
              " 167,\n",
              " 2,\n",
              " 336,\n",
              " 385,\n",
              " 39,\n",
              " 4,\n",
              " 172,\n",
              " 2,\n",
              " 2,\n",
              " 17,\n",
              " 2,\n",
              " 38,\n",
              " 13,\n",
              " 447,\n",
              " 4,\n",
              " 192,\n",
              " 50,\n",
              " 16,\n",
              " 6,\n",
              " 147,\n",
              " 2,\n",
              " 19,\n",
              " 14,\n",
              " 22,\n",
              " 4,\n",
              " 2,\n",
              " 2,\n",
              " 469,\n",
              " 4,\n",
              " 22,\n",
              " 71,\n",
              " 87,\n",
              " 12,\n",
              " 16,\n",
              " 43,\n",
              " 2,\n",
              " 38,\n",
              " 76,\n",
              " 15,\n",
              " 13,\n",
              " 2,\n",
              " 4,\n",
              " 22,\n",
              " 17,\n",
              " 2,\n",
              " 17,\n",
              " 12,\n",
              " 16,\n",
              " 2,\n",
              " 18,\n",
              " 2,\n",
              " 5,\n",
              " 62,\n",
              " 386,\n",
              " 12,\n",
              " 8,\n",
              " 316,\n",
              " 8,\n",
              " 106,\n",
              " 5,\n",
              " 4,\n",
              " 2,\n",
              " 2,\n",
              " 16,\n",
              " 480,\n",
              " 66,\n",
              " 2,\n",
              " 33,\n",
              " 4,\n",
              " 130,\n",
              " 12,\n",
              " 16,\n",
              " 38,\n",
              " 2,\n",
              " 5,\n",
              " 25,\n",
              " 124,\n",
              " 51,\n",
              " 36,\n",
              " 135,\n",
              " 48,\n",
              " 25,\n",
              " 2,\n",
              " 33,\n",
              " 6,\n",
              " 22,\n",
              " 12,\n",
              " 215,\n",
              " 28,\n",
              " 77,\n",
              " 52,\n",
              " 5,\n",
              " 14,\n",
              " 407,\n",
              " 16,\n",
              " 82,\n",
              " 2,\n",
              " 8,\n",
              " 4,\n",
              " 107,\n",
              " 117,\n",
              " 2,\n",
              " 15,\n",
              " 256,\n",
              " 4,\n",
              " 2,\n",
              " 7,\n",
              " 2,\n",
              " 5,\n",
              " 2,\n",
              " 36,\n",
              " 71,\n",
              " 43,\n",
              " 2,\n",
              " 476,\n",
              " 26,\n",
              " 400,\n",
              " 317,\n",
              " 46,\n",
              " 7,\n",
              " 4,\n",
              " 2,\n",
              " 2,\n",
              " 13,\n",
              " 104,\n",
              " 88,\n",
              " 4,\n",
              " 381,\n",
              " 15,\n",
              " 297,\n",
              " 98,\n",
              " 32,\n",
              " 2,\n",
              " 56,\n",
              " 26,\n",
              " 141,\n",
              " 6,\n",
              " 194,\n",
              " 2,\n",
              " 18,\n",
              " 4,\n",
              " 226,\n",
              " 22,\n",
              " 21,\n",
              " 134,\n",
              " 476,\n",
              " 26,\n",
              " 480,\n",
              " 5,\n",
              " 144,\n",
              " 30,\n",
              " 2,\n",
              " 18,\n",
              " 51,\n",
              " 36,\n",
              " 28,\n",
              " 224,\n",
              " 92,\n",
              " 25,\n",
              " 104,\n",
              " 4,\n",
              " 226,\n",
              " 65,\n",
              " 16,\n",
              " 38,\n",
              " 2,\n",
              " 88,\n",
              " 12,\n",
              " 16,\n",
              " 283,\n",
              " 5,\n",
              " 16,\n",
              " 2,\n",
              " 113,\n",
              " 103,\n",
              " 32,\n",
              " 15,\n",
              " 16,\n",
              " 2,\n",
              " 19,\n",
              " 178,\n",
              " 32]"
            ]
          },
          "metadata": {},
          "execution_count": 14
        }
      ]
    },
    {
      "cell_type": "code",
      "source": [
        "# 1 이면 긍정 0 이면 부정\n",
        "train_target[0] "
      ],
      "metadata": {
        "colab": {
          "base_uri": "https://localhost:8080/"
        },
        "id": "ib0ueA7GGPSM",
        "outputId": "072abf26-a0f4-44a4-f3b3-c227a1b97843"
      },
      "execution_count": 15,
      "outputs": [
        {
          "output_type": "execute_result",
          "data": {
            "text/plain": [
              "1"
            ]
          },
          "metadata": {},
          "execution_count": 15
        }
      ]
    },
    {
      "cell_type": "code",
      "source": [
        "train_input, val_input, train_target, val_target = train_test_split(train_input, train_target, test_size = 0.2)"
      ],
      "metadata": {
        "id": "e15QdhZwGdmP"
      },
      "execution_count": 16,
      "outputs": []
    },
    {
      "cell_type": "code",
      "source": [
        "# 리뷰의 길이가 다른데 어떻게 맞출것인가?\n",
        "import numpy as np\n",
        "\n",
        "box = []\n",
        "\n",
        "for i in train_input:\n",
        "    box.append(len(i))\n",
        "\n",
        "np.mean(box) # 리뷰에 쓰인 단어 갯수수 평균"
      ],
      "metadata": {
        "colab": {
          "base_uri": "https://localhost:8080/"
        },
        "id": "GswE4FrBHAR1",
        "outputId": "5816b1e2-990d-46ee-ab17-5332ba7a2f11"
      },
      "execution_count": 17,
      "outputs": [
        {
          "output_type": "execute_result",
          "data": {
            "text/plain": [
              "238.7486"
            ]
          },
          "metadata": {},
          "execution_count": 17
        }
      ]
    },
    {
      "cell_type": "code",
      "source": [
        "from  keras.utils import pad_sequences\n",
        "\n",
        "# 단어가 적든 많든 무조건 리뷰 안에 있는 단어를 100개로 맞춘다.\n",
        "train_seq = pad_sequences(train_input, maxlen = 100)\n",
        "val_seq = pad_sequences(val_input, maxlen = 100)"
      ],
      "metadata": {
        "id": "gP7rQqBFHlq0"
      },
      "execution_count": 23,
      "outputs": []
    },
    {
      "cell_type": "code",
      "source": [
        "# 단어가 많으면 앞에서부터 자릅니다.\n",
        "# 단어가 적으면 0으로 채워서라도 100개를 맞춥니다다\n",
        "train_seq.shape"
      ],
      "metadata": {
        "id": "8wMJcA-OH5Op",
        "colab": {
          "base_uri": "https://localhost:8080/"
        },
        "outputId": "00671706-6eca-4190-e0d2-874cf38718a0"
      },
      "execution_count": 24,
      "outputs": [
        {
          "output_type": "execute_result",
          "data": {
            "text/plain": [
              "(20000, 100)"
            ]
          },
          "metadata": {},
          "execution_count": 24
        }
      ]
    },
    {
      "cell_type": "code",
      "source": [
        "train_seq[1]"
      ],
      "metadata": {
        "colab": {
          "base_uri": "https://localhost:8080/"
        },
        "id": "9bQAqU8vN8GV",
        "outputId": "a305aab1-dc31-49b2-8696-848806a8b595"
      },
      "execution_count": 71,
      "outputs": [
        {
          "output_type": "execute_result",
          "data": {
            "text/plain": [
              "array([ 45,   6,   2,  56, 200,   2,   2,   5,   2,   2, 261,  36,  71,\n",
              "       199,   6, 227,  99, 154,  18,   4, 217,  13,   2, 219,   6,   2,\n",
              "       248, 310,   7,   2,  19,   2,   2,   5,   2,   2,  13,  62, 119,\n",
              "         8,  67, 148, 107,  81,   2,   2,  34,   4,  58,  13, 188,   8,\n",
              "       149,   4,   2,   2, 310,  13, 104,  13,  16,   2,   2,  46,  21,\n",
              "        13,  80, 115,   2,   7, 148,  86, 171, 234,   7,   2,   2,   2,\n",
              "         2,   2,   4,   2,   7,   4,  86, 310,  13, 126, 219,  13, 210,\n",
              "       181,   8, 140, 145,   5, 332,   4, 274, 174], dtype=int32)"
            ]
          },
          "metadata": {},
          "execution_count": 71
        }
      ]
    },
    {
      "cell_type": "code",
      "source": [
        "# 원핫인코딩 : 해당 숫자만 1이고 나머지가 다 0인\n",
        "\n",
        "train_oh = keras.utils.to_categorical(train_seq)\n",
        "val_oh = keras.utils.to_categorical(val_seq)"
      ],
      "metadata": {
        "id": "eE6xd2heOH5V"
      },
      "execution_count": 66,
      "outputs": []
    },
    {
      "cell_type": "code",
      "source": [
        "train_oh.shape"
      ],
      "metadata": {
        "colab": {
          "base_uri": "https://localhost:8080/"
        },
        "id": "xyuli0W_POOZ",
        "outputId": "6b53c5f9-650f-4cb2-882e-36018f3ba09b"
      },
      "execution_count": 67,
      "outputs": [
        {
          "output_type": "execute_result",
          "data": {
            "text/plain": [
              "(20000, 100, 500)"
            ]
          },
          "metadata": {},
          "execution_count": 67
        }
      ]
    },
    {
      "cell_type": "code",
      "source": [
        "train_oh[1]"
      ],
      "metadata": {
        "colab": {
          "base_uri": "https://localhost:8080/"
        },
        "id": "FxUZfTVEPR0k",
        "outputId": "af6590bf-2b40-4729-abb9-e2a80a192aef"
      },
      "execution_count": 70,
      "outputs": [
        {
          "output_type": "execute_result",
          "data": {
            "text/plain": [
              "array([[0., 0., 0., ..., 0., 0., 0.],\n",
              "       [0., 0., 0., ..., 0., 0., 0.],\n",
              "       [0., 0., 1., ..., 0., 0., 0.],\n",
              "       ...,\n",
              "       [0., 0., 0., ..., 0., 0., 0.],\n",
              "       [0., 0., 0., ..., 0., 0., 0.],\n",
              "       [0., 0., 0., ..., 0., 0., 0.]], dtype=float32)"
            ]
          },
          "metadata": {},
          "execution_count": 70
        }
      ]
    },
    {
      "cell_type": "code",
      "source": [
        "model = keras.Sequential()\n",
        "model.add(keras.layers.SimpleRNN(8, input_shape = (100, 500)))\n",
        "model.add(keras.layers.Dense(2, activation = 'softmax'))\n",
        "\n",
        "model.compile(loss = 'sparse_categorical_crossentropy', metrics = 'accuracy', optimizer = 'adam')\n",
        "\n",
        "es = keras.callbacks.EarlyStopping(patience = 3, restore_best_weights = True)\n",
        "\n",
        "hist = model.fit(train_oh, train_target, epochs = 10000, validation_data = (val_oh, val_target),\n",
        "                 callbacks =[es])"
      ],
      "metadata": {
        "colab": {
          "base_uri": "https://localhost:8080/"
        },
        "id": "oBzZ7sdBPU9c",
        "outputId": "36a6292c-a011-4919-9ea7-a24fc6e360d7"
      },
      "execution_count": 74,
      "outputs": [
        {
          "output_type": "stream",
          "name": "stdout",
          "text": [
            "Epoch 1/10000\n",
            "625/625 [==============================] - 21s 31ms/step - loss: 0.6846 - accuracy: 0.5513 - val_loss: 0.6626 - val_accuracy: 0.6248\n",
            "Epoch 2/10000\n",
            "625/625 [==============================] - 16s 25ms/step - loss: 0.5338 - accuracy: 0.7372 - val_loss: 0.4783 - val_accuracy: 0.7782\n",
            "Epoch 3/10000\n",
            "625/625 [==============================] - 16s 25ms/step - loss: 0.4672 - accuracy: 0.7842 - val_loss: 0.4749 - val_accuracy: 0.7880\n",
            "Epoch 4/10000\n",
            "625/625 [==============================] - 16s 25ms/step - loss: 0.4444 - accuracy: 0.7965 - val_loss: 0.4491 - val_accuracy: 0.7926\n",
            "Epoch 5/10000\n",
            "625/625 [==============================] - 16s 26ms/step - loss: 0.4288 - accuracy: 0.8051 - val_loss: 0.4518 - val_accuracy: 0.7922\n",
            "Epoch 6/10000\n",
            "625/625 [==============================] - 18s 29ms/step - loss: 0.4193 - accuracy: 0.8111 - val_loss: 0.4529 - val_accuracy: 0.7858\n",
            "Epoch 7/10000\n",
            "625/625 [==============================] - 25s 41ms/step - loss: 0.4086 - accuracy: 0.8187 - val_loss: 0.4825 - val_accuracy: 0.7796\n"
          ]
        }
      ]
    },
    {
      "cell_type": "code",
      "source": [
        "import matplotlib.pyplot as plt\n",
        "\n",
        "plt.plot(hist.history['loss'])\n",
        "plt.plot(hist.history['val_loss'])"
      ],
      "metadata": {
        "colab": {
          "base_uri": "https://localhost:8080/",
          "height": 283
        },
        "id": "cGwhCN4ORJgJ",
        "outputId": "11fefe91-9771-47c4-86f3-3a59acd8caf4"
      },
      "execution_count": 75,
      "outputs": [
        {
          "output_type": "execute_result",
          "data": {
            "text/plain": [
              "[<matplotlib.lines.Line2D at 0x7fa78552e790>]"
            ]
          },
          "metadata": {},
          "execution_count": 75
        },
        {
          "output_type": "display_data",
          "data": {
            "text/plain": [
              "<Figure size 432x288 with 1 Axes>"
            ],
            "image/png": "[encoded data removed]"
          },
          "metadata": {
            "needs_background": "light"
          }
        }
      ]
    },
    {
      "cell_type": "code",
      "source": [
        "model = keras.Sequential()\n",
        "model.add(keras.layers.SimpleRNN(8, input_shape = (100, 500)))\n",
        "model.add(keras.layers.Dense(2, activation = 'softmax'))\n",
        "\n",
        "model.compile(loss = 'sparse_categorical_crossentropy', metrics = 'accuracy', optimizer = 'adam')\n",
        "\n",
        "es = keras.callbacks.EarlyStopping(patience = 3, restore_best_weights = True)\n",
        "\n",
        "hist = model.fit(train_oh, train_target, epochs = 10000, validation_data = (val_oh, val_target),\n",
        "                 callbacks =[es])"
      ],
      "metadata": {
        "id": "SXEOgp26Qm35"
      },
      "execution_count": null,
      "outputs": []
    }
  ]
}